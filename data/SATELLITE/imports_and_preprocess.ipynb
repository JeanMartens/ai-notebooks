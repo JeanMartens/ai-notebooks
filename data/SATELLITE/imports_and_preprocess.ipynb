{
 "cells": [
  {
   "cell_type": "code",
   "execution_count": 1,
   "id": "72195e76-6176-4105-8b79-126c155909b5",
   "metadata": {},
   "outputs": [],
   "source": [
    "# !pip install kaggle\n",
    "# !mkdir -p ~/.kaggle/\n",
    "# !cp kaggle.json ~/.kaggle/\n",
    "# !chmod 600 ~/.kaggle/kaggle.json"
   ]
  },
  {
   "cell_type": "code",
   "execution_count": 2,
   "id": "08e24fc3-f628-45eb-a244-434ba6d33a65",
   "metadata": {},
   "outputs": [],
   "source": [
    "# !kaggle datasets download -d alincijov/pix2pix-maps\n",
    "# !unzip pix2pix-maps.zip"
   ]
  },
  {
   "cell_type": "code",
   "execution_count": 6,
   "id": "dbe019e5-b5e6-49b8-86df-ffe745d6d4e1",
   "metadata": {},
   "outputs": [],
   "source": [
    "import os\n",
    "import pandas as pd\n",
    "import numpy as np\n",
    "import matplotlib.pyplot as plt\n",
    "from PIL import Image\n",
    "from tqdm import tqdm\n",
    "\n",
    "val_filenames = os.listdir('val')\n",
    "val_filenames = ['val/' + filename for filename in val_filenames]\n",
    "train_filenames = os.listdir('train')\n",
    "train_filenames = ['train/' + filename for filename in train_filenames]\n",
    "\n",
    "filenames = val_filenames + train_filenames"
   ]
  },
  {
   "cell_type": "code",
   "execution_count": 7,
   "id": "e5580176-3c4c-4db8-9774-eaec233923cb",
   "metadata": {},
   "outputs": [
    {
     "data": {
      "text/plain": [
       "2195"
      ]
     },
     "execution_count": 7,
     "metadata": {},
     "output_type": "execute_result"
    }
   ],
   "source": [
    "len(filenames)"
   ]
  },
  {
   "cell_type": "code",
   "execution_count": 8,
   "id": "2e601db7-ce17-4e89-999a-aa63a362ac57",
   "metadata": {},
   "outputs": [
    {
     "name": "stderr",
     "output_type": "stream",
     "text": [
      "100%|█████████▉| 2194/2195 [02:28<00:00, 14.80it/s]\n"
     ]
    },
    {
     "ename": "IsADirectoryError",
     "evalue": "[Errno 21] Is a directory: 'train/.ipynb_checkpoints'",
     "output_type": "error",
     "traceback": [
      "\u001b[0;31m---------------------------------------------------------------------------\u001b[0m",
      "\u001b[0;31mIsADirectoryError\u001b[0m                         Traceback (most recent call last)",
      "Cell \u001b[0;32mIn[8], line 30\u001b[0m\n\u001b[1;32m     27\u001b[0m os\u001b[38;5;241m.\u001b[39mmakedirs(\u001b[38;5;124m'\u001b[39m\u001b[38;5;124mall_data_npy/map/\u001b[39m\u001b[38;5;124m'\u001b[39m, exist_ok\u001b[38;5;241m=\u001b[39m\u001b[38;5;28;01mTrue\u001b[39;00m)\n\u001b[1;32m     29\u001b[0m \u001b[38;5;28;01mfor\u001b[39;00m i, filename \u001b[38;5;129;01min\u001b[39;00m tqdm(\u001b[38;5;28menumerate\u001b[39m(filenames), total\u001b[38;5;241m=\u001b[39m\u001b[38;5;28mlen\u001b[39m(filenames)):\n\u001b[0;32m---> 30\u001b[0m     im \u001b[38;5;241m=\u001b[39m \u001b[43mImage\u001b[49m\u001b[38;5;241;43m.\u001b[39;49m\u001b[43mopen\u001b[49m\u001b[43m(\u001b[49m\u001b[43mfilename\u001b[49m\u001b[43m)\u001b[49m\n\u001b[1;32m     31\u001b[0m     im_array \u001b[38;5;241m=\u001b[39m np\u001b[38;5;241m.\u001b[39marray(im)\n\u001b[1;32m     33\u001b[0m     sat \u001b[38;5;241m=\u001b[39m im_array[:, :\u001b[38;5;241m600\u001b[39m, :]\n",
      "File \u001b[0;32m/opt/conda/lib/python3.10/site-packages/PIL/Image.py:3227\u001b[0m, in \u001b[0;36mopen\u001b[0;34m(fp, mode, formats)\u001b[0m\n\u001b[1;32m   3224\u001b[0m     filename \u001b[38;5;241m=\u001b[39m fp\n\u001b[1;32m   3226\u001b[0m \u001b[38;5;28;01mif\u001b[39;00m filename:\n\u001b[0;32m-> 3227\u001b[0m     fp \u001b[38;5;241m=\u001b[39m \u001b[43mbuiltins\u001b[49m\u001b[38;5;241;43m.\u001b[39;49m\u001b[43mopen\u001b[49m\u001b[43m(\u001b[49m\u001b[43mfilename\u001b[49m\u001b[43m,\u001b[49m\u001b[43m \u001b[49m\u001b[38;5;124;43m\"\u001b[39;49m\u001b[38;5;124;43mrb\u001b[39;49m\u001b[38;5;124;43m\"\u001b[39;49m\u001b[43m)\u001b[49m\n\u001b[1;32m   3228\u001b[0m     exclusive_fp \u001b[38;5;241m=\u001b[39m \u001b[38;5;28;01mTrue\u001b[39;00m\n\u001b[1;32m   3230\u001b[0m \u001b[38;5;28;01mtry\u001b[39;00m:\n",
      "\u001b[0;31mIsADirectoryError\u001b[0m: [Errno 21] Is a directory: 'train/.ipynb_checkpoints'"
     ]
    }
   ],
   "source": [
    "import os\n",
    "from PIL import Image\n",
    "import numpy as np\n",
    "from tqdm import tqdm\n",
    "\n",
    "def split_into_4_crops(image_array):\n",
    "    \"\"\"\n",
    "    Split the given image array into 4 crops: top left, top right, bottom left, bottom right.\n",
    "    \"\"\"\n",
    "    height, width, _ = image_array.shape\n",
    "    half_height = height // 2\n",
    "    half_width = width // 2\n",
    "\n",
    "    top_left = image_array[:half_height, :half_width, :]\n",
    "    top_right = image_array[:half_height, half_width:, :]\n",
    "    bottom_left = image_array[half_height:, :half_width, :]\n",
    "    bottom_right = image_array[half_height:, half_width:, :]\n",
    "\n",
    "    return top_left, top_right, bottom_left, bottom_right\n",
    "\n",
    "sat_paths = []\n",
    "map_paths = []\n",
    "indexes = []\n",
    "\n",
    "os.makedirs('all_data_npy', exist_ok=True)\n",
    "os.makedirs('all_data_npy/sat/', exist_ok=True)\n",
    "os.makedirs('all_data_npy/map/', exist_ok=True)\n",
    "\n",
    "for i, filename in tqdm(enumerate(filenames), total=len(filenames)):\n",
    "    im = Image.open(filename)\n",
    "    im_array = np.array(im)\n",
    "\n",
    "    sat = im_array[:, :600, :]\n",
    "    map_img = im_array[:, 600:, :]\n",
    "\n",
    "\n",
    "    sat_crops = split_into_4_crops(sat)\n",
    "    map_crops = split_into_4_crops(map_img)\n",
    "\n",
    "    for j, (sat_crop, map_crop) in enumerate(zip(sat_crops, map_crops)):\n",
    "        unique_index = i * 4 + j\n",
    "\n",
    "        sat_path = 'all_data_npy/sat/' + str(unique_index) + '.npy'\n",
    "        map_path = 'all_data_npy/map/' + str(unique_index) + '.npy'\n",
    "\n",
    "        np.save(sat_path, sat_crop)\n",
    "        np.save(map_path, map_crop)\n",
    "\n",
    "        indexes.append(unique_index)\n",
    "        sat_paths.append(sat_path)\n",
    "        map_paths.append(map_path)"
   ]
  },
  {
   "cell_type": "code",
   "execution_count": 9,
   "id": "539617d2-ac7b-4d75-9801-206c58e5a217",
   "metadata": {},
   "outputs": [],
   "source": [
    "metadata = pd.DataFrame()"
   ]
  },
  {
   "cell_type": "code",
   "execution_count": 10,
   "id": "fbfc5c43-4364-4b73-b3ff-ea9a45de8d27",
   "metadata": {},
   "outputs": [],
   "source": [
    "metadata['id'] = indexes\n",
    "metadata['sat_path'] = sat_paths\n",
    "metadata['map_path'] = map_paths"
   ]
  },
  {
   "cell_type": "code",
   "execution_count": 14,
   "id": "9a66ecee-8552-4046-b25c-4cb66f08e414",
   "metadata": {},
   "outputs": [],
   "source": [
    "metadata['sat_path'] = 'data/SATELLITE/' + metadata['sat_path']\n",
    "metadata['map_path'] = 'data/SATELLITE/' + metadata['map_path']"
   ]
  },
  {
   "cell_type": "code",
   "execution_count": 17,
   "id": "5ce98fbb-99ec-4818-898a-f3bacca006a0",
   "metadata": {},
   "outputs": [
    {
     "data": {
      "text/html": [
       "<div>\n",
       "<style scoped>\n",
       "    .dataframe tbody tr th:only-of-type {\n",
       "        vertical-align: middle;\n",
       "    }\n",
       "\n",
       "    .dataframe tbody tr th {\n",
       "        vertical-align: top;\n",
       "    }\n",
       "\n",
       "    .dataframe thead th {\n",
       "        text-align: right;\n",
       "    }\n",
       "</style>\n",
       "<table border=\"1\" class=\"dataframe\">\n",
       "  <thead>\n",
       "    <tr style=\"text-align: right;\">\n",
       "      <th></th>\n",
       "      <th>id</th>\n",
       "      <th>sat_path</th>\n",
       "      <th>map_path</th>\n",
       "    </tr>\n",
       "  </thead>\n",
       "  <tbody>\n",
       "    <tr>\n",
       "      <th>0</th>\n",
       "      <td>0</td>\n",
       "      <td>data/SATELLITE/all_data_npy/sat/0.npy</td>\n",
       "      <td>data/SATELLITE/all_data_npy/map/0.npy</td>\n",
       "    </tr>\n",
       "    <tr>\n",
       "      <th>1</th>\n",
       "      <td>1</td>\n",
       "      <td>data/SATELLITE/all_data_npy/sat/1.npy</td>\n",
       "      <td>data/SATELLITE/all_data_npy/map/1.npy</td>\n",
       "    </tr>\n",
       "    <tr>\n",
       "      <th>2</th>\n",
       "      <td>2</td>\n",
       "      <td>data/SATELLITE/all_data_npy/sat/2.npy</td>\n",
       "      <td>data/SATELLITE/all_data_npy/map/2.npy</td>\n",
       "    </tr>\n",
       "    <tr>\n",
       "      <th>3</th>\n",
       "      <td>3</td>\n",
       "      <td>data/SATELLITE/all_data_npy/sat/3.npy</td>\n",
       "      <td>data/SATELLITE/all_data_npy/map/3.npy</td>\n",
       "    </tr>\n",
       "    <tr>\n",
       "      <th>4</th>\n",
       "      <td>4</td>\n",
       "      <td>data/SATELLITE/all_data_npy/sat/4.npy</td>\n",
       "      <td>data/SATELLITE/all_data_npy/map/4.npy</td>\n",
       "    </tr>\n",
       "  </tbody>\n",
       "</table>\n",
       "</div>"
      ],
      "text/plain": [
       "   id                               sat_path   \n",
       "0   0  data/SATELLITE/all_data_npy/sat/0.npy  \\\n",
       "1   1  data/SATELLITE/all_data_npy/sat/1.npy   \n",
       "2   2  data/SATELLITE/all_data_npy/sat/2.npy   \n",
       "3   3  data/SATELLITE/all_data_npy/sat/3.npy   \n",
       "4   4  data/SATELLITE/all_data_npy/sat/4.npy   \n",
       "\n",
       "                                map_path  \n",
       "0  data/SATELLITE/all_data_npy/map/0.npy  \n",
       "1  data/SATELLITE/all_data_npy/map/1.npy  \n",
       "2  data/SATELLITE/all_data_npy/map/2.npy  \n",
       "3  data/SATELLITE/all_data_npy/map/3.npy  \n",
       "4  data/SATELLITE/all_data_npy/map/4.npy  "
      ]
     },
     "execution_count": 17,
     "metadata": {},
     "output_type": "execute_result"
    }
   ],
   "source": [
    "metadata.head()"
   ]
  },
  {
   "cell_type": "code",
   "execution_count": 16,
   "id": "e06259ed-cd15-40f1-be8c-4baaf16f6572",
   "metadata": {},
   "outputs": [],
   "source": [
    "metadata.to_csv('metadata.csv', index=False)"
   ]
  },
  {
   "cell_type": "code",
   "execution_count": null,
   "id": "d141445e-6c54-41d1-90a0-64dff4e96334",
   "metadata": {},
   "outputs": [],
   "source": []
  }
 ],
 "metadata": {
  "kernelspec": {
   "display_name": "Python 3 (ipykernel)",
   "language": "python",
   "name": "python3"
  },
  "language_info": {
   "codemirror_mode": {
    "name": "ipython",
    "version": 3
   },
   "file_extension": ".py",
   "mimetype": "text/x-python",
   "name": "python",
   "nbconvert_exporter": "python",
   "pygments_lexer": "ipython3",
   "version": "3.10.11"
  }
 },
 "nbformat": 4,
 "nbformat_minor": 5
}
